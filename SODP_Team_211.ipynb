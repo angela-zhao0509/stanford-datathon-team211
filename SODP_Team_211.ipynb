{
  "nbformat": 4,
  "nbformat_minor": 0,
  "metadata": {
    "colab": {
      "name": "SODP Team 211.ipynb",
      "provenance": [],
      "collapsed_sections": [],
      "toc_visible": true,
      "include_colab_link": true
    },
    "kernelspec": {
      "name": "python3",
      "display_name": "Python 3"
    },
    "language_info": {
      "name": "python"
    },
    "widgets": {
      "application/vnd.jupyter.widget-state+json": {
        "56f014b99c164655896435087cd37dad": {
          "model_module": "@jupyter-widgets/controls",
          "model_name": "DropdownModel",
          "state": {
            "_options_labels": [
              "0",
              "0.5",
              "1",
              "1.5",
              "2",
              "2.5",
              "3",
              "3.5",
              "4",
              "4.5",
              "5"
            ],
            "_view_name": "DropdownView",
            "style": "IPY_MODEL_28ab62afad4f4410b1fbaf37a0b8ca5c",
            "_dom_classes": [],
            "description": "SOP: ",
            "_model_name": "DropdownModel",
            "index": 0,
            "_view_module": "@jupyter-widgets/controls",
            "_model_module_version": "1.5.0",
            "_view_count": null,
            "disabled": false,
            "_view_module_version": "1.5.0",
            "description_tooltip": null,
            "_model_module": "@jupyter-widgets/controls",
            "layout": "IPY_MODEL_3ff6ad8cc3b945e499e684a2fdf2e7d7"
          }
        },
        "28ab62afad4f4410b1fbaf37a0b8ca5c": {
          "model_module": "@jupyter-widgets/controls",
          "model_name": "DescriptionStyleModel",
          "state": {
            "_view_name": "StyleView",
            "_model_name": "DescriptionStyleModel",
            "description_width": "",
            "_view_module": "@jupyter-widgets/base",
            "_model_module_version": "1.5.0",
            "_view_count": null,
            "_view_module_version": "1.2.0",
            "_model_module": "@jupyter-widgets/controls"
          }
        },
        "3ff6ad8cc3b945e499e684a2fdf2e7d7": {
          "model_module": "@jupyter-widgets/base",
          "model_name": "LayoutModel",
          "state": {
            "_view_name": "LayoutView",
            "grid_template_rows": null,
            "right": null,
            "justify_content": null,
            "_view_module": "@jupyter-widgets/base",
            "overflow": null,
            "_model_module_version": "1.2.0",
            "_view_count": null,
            "flex_flow": null,
            "width": null,
            "min_width": null,
            "border": null,
            "align_items": null,
            "bottom": null,
            "_model_module": "@jupyter-widgets/base",
            "top": null,
            "grid_column": null,
            "overflow_y": null,
            "overflow_x": null,
            "grid_auto_flow": null,
            "grid_area": null,
            "grid_template_columns": null,
            "flex": null,
            "_model_name": "LayoutModel",
            "justify_items": null,
            "grid_row": null,
            "max_height": null,
            "align_content": null,
            "visibility": null,
            "align_self": null,
            "height": null,
            "min_height": null,
            "padding": null,
            "grid_auto_rows": null,
            "grid_gap": null,
            "max_width": null,
            "order": null,
            "_view_module_version": "1.2.0",
            "grid_template_areas": null,
            "object_position": null,
            "object_fit": null,
            "grid_auto_columns": null,
            "margin": null,
            "display": null,
            "left": null
          }
        },
        "98da03d3160846fe9703289d4e9e0998": {
          "model_module": "@jupyter-widgets/controls",
          "model_name": "DropdownModel",
          "state": {
            "_options_labels": [
              "0",
              "1"
            ],
            "_view_name": "DropdownView",
            "style": "IPY_MODEL_7f2442296eb24d47a2d9831cc5c9cc60",
            "_dom_classes": [],
            "description": "research: ",
            "_model_name": "DropdownModel",
            "index": 0,
            "_view_module": "@jupyter-widgets/controls",
            "_model_module_version": "1.5.0",
            "_view_count": null,
            "disabled": false,
            "_view_module_version": "1.5.0",
            "description_tooltip": null,
            "_model_module": "@jupyter-widgets/controls",
            "layout": "IPY_MODEL_e17285d9f8d843a59337487db1be00d3"
          }
        },
        "7f2442296eb24d47a2d9831cc5c9cc60": {
          "model_module": "@jupyter-widgets/controls",
          "model_name": "DescriptionStyleModel",
          "state": {
            "_view_name": "StyleView",
            "_model_name": "DescriptionStyleModel",
            "description_width": "",
            "_view_module": "@jupyter-widgets/base",
            "_model_module_version": "1.5.0",
            "_view_count": null,
            "_view_module_version": "1.2.0",
            "_model_module": "@jupyter-widgets/controls"
          }
        },
        "e17285d9f8d843a59337487db1be00d3": {
          "model_module": "@jupyter-widgets/base",
          "model_name": "LayoutModel",
          "state": {
            "_view_name": "LayoutView",
            "grid_template_rows": null,
            "right": null,
            "justify_content": null,
            "_view_module": "@jupyter-widgets/base",
            "overflow": null,
            "_model_module_version": "1.2.0",
            "_view_count": null,
            "flex_flow": null,
            "width": null,
            "min_width": null,
            "border": null,
            "align_items": null,
            "bottom": null,
            "_model_module": "@jupyter-widgets/base",
            "top": null,
            "grid_column": null,
            "overflow_y": null,
            "overflow_x": null,
            "grid_auto_flow": null,
            "grid_area": null,
            "grid_template_columns": null,
            "flex": null,
            "_model_name": "LayoutModel",
            "justify_items": null,
            "grid_row": null,
            "max_height": null,
            "align_content": null,
            "visibility": null,
            "align_self": null,
            "height": null,
            "min_height": null,
            "padding": null,
            "grid_auto_rows": null,
            "grid_gap": null,
            "max_width": null,
            "order": null,
            "_view_module_version": "1.2.0",
            "grid_template_areas": null,
            "object_position": null,
            "object_fit": null,
            "grid_auto_columns": null,
            "margin": null,
            "display": null,
            "left": null
          }
        }
      }
    }
  },
  "cells": [
    {
      "cell_type": "markdown",
      "metadata": {
        "id": "view-in-github",
        "colab_type": "text"
      },
      "source": [
        "<a href=\"https://colab.research.google.com/github/angelazhao2552/stanford-datathon-team211/blob/main/SODP_Team_211.ipynb\" target=\"_parent\"><img src=\"https://colab.research.google.com/assets/colab-badge.svg\" alt=\"Open In Colab\"/></a>"
      ]
    },
    {
      "cell_type": "markdown",
      "metadata": {
        "id": "1UUuFCJ6H61l"
      },
      "source": [
        "# Import package"
      ]
    },
    {
      "cell_type": "code",
      "metadata": {
        "id": "n1K7-ZjGatNA"
      },
      "source": [
        "import numpy as np\n",
        "import pandas as pd\n",
        "import matplotlib.pyplot as plt\n",
        "import seaborn as sns\n",
        "from sklearn.model_selection import train_test_split\n",
        "from sklearn.model_selection import GridSearchCV\n",
        "from sklearn.model_selection import cross_val_score\n",
        "from sklearn.linear_model import LogisticRegression\n",
        "from sklearn.neighbors import KNeighborsClassifier\n",
        "from sklearn.ensemble import RandomForestClassifier\n",
        "from sklearn.metrics import accuracy_score"
      ],
      "execution_count": null,
      "outputs": []
    },
    {
      "cell_type": "markdown",
      "metadata": {
        "id": "e-4QhUzxIBBv"
      },
      "source": [
        "# Read data"
      ]
    },
    {
      "cell_type": "code",
      "metadata": {
        "id": "Gh4tQ7LF0yEt"
      },
      "source": [
        "university = pd.read_csv('/content/Admission_Predict.csv')"
      ],
      "execution_count": null,
      "outputs": []
    },
    {
      "cell_type": "code",
      "metadata": {
        "id": "i1Fyr2260yMV",
        "colab": {
          "base_uri": "https://localhost:8080/",
          "height": 204
        },
        "outputId": "46b446db-78a3-4827-b753-3700552731dd"
      },
      "source": [
        "university.head(5)"
      ],
      "execution_count": null,
      "outputs": [
        {
          "output_type": "execute_result",
          "data": {
            "text/html": [
              "<div>\n",
              "<style scoped>\n",
              "    .dataframe tbody tr th:only-of-type {\n",
              "        vertical-align: middle;\n",
              "    }\n",
              "\n",
              "    .dataframe tbody tr th {\n",
              "        vertical-align: top;\n",
              "    }\n",
              "\n",
              "    .dataframe thead th {\n",
              "        text-align: right;\n",
              "    }\n",
              "</style>\n",
              "<table border=\"1\" class=\"dataframe\">\n",
              "  <thead>\n",
              "    <tr style=\"text-align: right;\">\n",
              "      <th></th>\n",
              "      <th>Serial No.</th>\n",
              "      <th>GRE Score</th>\n",
              "      <th>TOEFL Score</th>\n",
              "      <th>University Rating</th>\n",
              "      <th>SOP</th>\n",
              "      <th>LOR</th>\n",
              "      <th>CGPA</th>\n",
              "      <th>Research</th>\n",
              "      <th>Chance of Admit</th>\n",
              "    </tr>\n",
              "  </thead>\n",
              "  <tbody>\n",
              "    <tr>\n",
              "      <th>0</th>\n",
              "      <td>1</td>\n",
              "      <td>337</td>\n",
              "      <td>118</td>\n",
              "      <td>4</td>\n",
              "      <td>4.5</td>\n",
              "      <td>4.5</td>\n",
              "      <td>9.65</td>\n",
              "      <td>1</td>\n",
              "      <td>0.92</td>\n",
              "    </tr>\n",
              "    <tr>\n",
              "      <th>1</th>\n",
              "      <td>2</td>\n",
              "      <td>324</td>\n",
              "      <td>107</td>\n",
              "      <td>4</td>\n",
              "      <td>4.0</td>\n",
              "      <td>4.5</td>\n",
              "      <td>8.87</td>\n",
              "      <td>1</td>\n",
              "      <td>0.76</td>\n",
              "    </tr>\n",
              "    <tr>\n",
              "      <th>2</th>\n",
              "      <td>3</td>\n",
              "      <td>316</td>\n",
              "      <td>104</td>\n",
              "      <td>3</td>\n",
              "      <td>3.0</td>\n",
              "      <td>3.5</td>\n",
              "      <td>8.00</td>\n",
              "      <td>1</td>\n",
              "      <td>0.72</td>\n",
              "    </tr>\n",
              "    <tr>\n",
              "      <th>3</th>\n",
              "      <td>4</td>\n",
              "      <td>322</td>\n",
              "      <td>110</td>\n",
              "      <td>3</td>\n",
              "      <td>3.5</td>\n",
              "      <td>2.5</td>\n",
              "      <td>8.67</td>\n",
              "      <td>1</td>\n",
              "      <td>0.80</td>\n",
              "    </tr>\n",
              "    <tr>\n",
              "      <th>4</th>\n",
              "      <td>5</td>\n",
              "      <td>314</td>\n",
              "      <td>103</td>\n",
              "      <td>2</td>\n",
              "      <td>2.0</td>\n",
              "      <td>3.0</td>\n",
              "      <td>8.21</td>\n",
              "      <td>0</td>\n",
              "      <td>0.65</td>\n",
              "    </tr>\n",
              "  </tbody>\n",
              "</table>\n",
              "</div>"
            ],
            "text/plain": [
              "   Serial No.  GRE Score  TOEFL Score  ...  CGPA  Research  Chance of Admit \n",
              "0           1        337          118  ...  9.65         1              0.92\n",
              "1           2        324          107  ...  8.87         1              0.76\n",
              "2           3        316          104  ...  8.00         1              0.72\n",
              "3           4        322          110  ...  8.67         1              0.80\n",
              "4           5        314          103  ...  8.21         0              0.65\n",
              "\n",
              "[5 rows x 9 columns]"
            ]
          },
          "metadata": {
            "tags": []
          },
          "execution_count": 3
        }
      ]
    },
    {
      "cell_type": "markdown",
      "metadata": {
        "id": "5-_Y8ovOI45K"
      },
      "source": [
        "# Data Wrangling"
      ]
    },
    {
      "cell_type": "code",
      "metadata": {
        "colab": {
          "base_uri": "https://localhost:8080/"
        },
        "id": "E_ScLca8dCUR",
        "outputId": "140b7524-6851-460c-b413-512e6635b8cb"
      },
      "source": [
        "university.isna().sum()"
      ],
      "execution_count": null,
      "outputs": [
        {
          "output_type": "execute_result",
          "data": {
            "text/plain": [
              "Serial No.           0\n",
              "GRE Score            0\n",
              "TOEFL Score          0\n",
              "University Rating    0\n",
              "SOP                  0\n",
              "LOR                  0\n",
              "CGPA                 0\n",
              "Research             0\n",
              "Chance of Admit      0\n",
              "dtype: int64"
            ]
          },
          "metadata": {
            "tags": []
          },
          "execution_count": 4
        }
      ]
    },
    {
      "cell_type": "code",
      "metadata": {
        "id": "KzKhu66PAkou"
      },
      "source": [
        "def admit(x):\n",
        "  if x >= 0.8:\n",
        "    return 'high possibility'\n",
        "  elif x >= 0.6:\n",
        "    return 'normal performance'\n",
        "  elif x >= 0.4:\n",
        "    return 'unlikely'\n",
        "  elif x >= 0.2:\n",
        "    return 'very unlikely'\n",
        "\n",
        "university['Admit'] = university.apply(lambda row: admit(row['Chance of Admit ']), axis=1)"
      ],
      "execution_count": null,
      "outputs": []
    },
    {
      "cell_type": "code",
      "metadata": {
        "id": "s1HKZlSBCAPP"
      },
      "source": [
        "university['GPA']=university['CGPA'].apply(lambda cgpa: cgpa/10.0*4.0)"
      ],
      "execution_count": null,
      "outputs": []
    },
    {
      "cell_type": "code",
      "metadata": {
        "colab": {
          "base_uri": "https://localhost:8080/",
          "height": 204
        },
        "id": "_NC7nMbAFv7j",
        "outputId": "44fa8afd-afda-4c5f-d08f-00e0697a0900"
      },
      "source": [
        "university.head(5)"
      ],
      "execution_count": null,
      "outputs": [
        {
          "output_type": "execute_result",
          "data": {
            "text/html": [
              "<div>\n",
              "<style scoped>\n",
              "    .dataframe tbody tr th:only-of-type {\n",
              "        vertical-align: middle;\n",
              "    }\n",
              "\n",
              "    .dataframe tbody tr th {\n",
              "        vertical-align: top;\n",
              "    }\n",
              "\n",
              "    .dataframe thead th {\n",
              "        text-align: right;\n",
              "    }\n",
              "</style>\n",
              "<table border=\"1\" class=\"dataframe\">\n",
              "  <thead>\n",
              "    <tr style=\"text-align: right;\">\n",
              "      <th></th>\n",
              "      <th>Serial No.</th>\n",
              "      <th>GRE Score</th>\n",
              "      <th>TOEFL Score</th>\n",
              "      <th>University Rating</th>\n",
              "      <th>SOP</th>\n",
              "      <th>LOR</th>\n",
              "      <th>CGPA</th>\n",
              "      <th>Research</th>\n",
              "      <th>Chance of Admit</th>\n",
              "      <th>Admit</th>\n",
              "      <th>GPA</th>\n",
              "    </tr>\n",
              "  </thead>\n",
              "  <tbody>\n",
              "    <tr>\n",
              "      <th>0</th>\n",
              "      <td>1</td>\n",
              "      <td>337</td>\n",
              "      <td>118</td>\n",
              "      <td>4</td>\n",
              "      <td>4.5</td>\n",
              "      <td>4.5</td>\n",
              "      <td>9.65</td>\n",
              "      <td>1</td>\n",
              "      <td>0.92</td>\n",
              "      <td>high possibility</td>\n",
              "      <td>3.860</td>\n",
              "    </tr>\n",
              "    <tr>\n",
              "      <th>1</th>\n",
              "      <td>2</td>\n",
              "      <td>324</td>\n",
              "      <td>107</td>\n",
              "      <td>4</td>\n",
              "      <td>4.0</td>\n",
              "      <td>4.5</td>\n",
              "      <td>8.87</td>\n",
              "      <td>1</td>\n",
              "      <td>0.76</td>\n",
              "      <td>normal performance</td>\n",
              "      <td>3.548</td>\n",
              "    </tr>\n",
              "    <tr>\n",
              "      <th>2</th>\n",
              "      <td>3</td>\n",
              "      <td>316</td>\n",
              "      <td>104</td>\n",
              "      <td>3</td>\n",
              "      <td>3.0</td>\n",
              "      <td>3.5</td>\n",
              "      <td>8.00</td>\n",
              "      <td>1</td>\n",
              "      <td>0.72</td>\n",
              "      <td>normal performance</td>\n",
              "      <td>3.200</td>\n",
              "    </tr>\n",
              "    <tr>\n",
              "      <th>3</th>\n",
              "      <td>4</td>\n",
              "      <td>322</td>\n",
              "      <td>110</td>\n",
              "      <td>3</td>\n",
              "      <td>3.5</td>\n",
              "      <td>2.5</td>\n",
              "      <td>8.67</td>\n",
              "      <td>1</td>\n",
              "      <td>0.80</td>\n",
              "      <td>high possibility</td>\n",
              "      <td>3.468</td>\n",
              "    </tr>\n",
              "    <tr>\n",
              "      <th>4</th>\n",
              "      <td>5</td>\n",
              "      <td>314</td>\n",
              "      <td>103</td>\n",
              "      <td>2</td>\n",
              "      <td>2.0</td>\n",
              "      <td>3.0</td>\n",
              "      <td>8.21</td>\n",
              "      <td>0</td>\n",
              "      <td>0.65</td>\n",
              "      <td>normal performance</td>\n",
              "      <td>3.284</td>\n",
              "    </tr>\n",
              "  </tbody>\n",
              "</table>\n",
              "</div>"
            ],
            "text/plain": [
              "   Serial No.  GRE Score  ...               Admit    GPA\n",
              "0           1        337  ...    high possibility  3.860\n",
              "1           2        324  ...  normal performance  3.548\n",
              "2           3        316  ...  normal performance  3.200\n",
              "3           4        322  ...    high possibility  3.468\n",
              "4           5        314  ...  normal performance  3.284\n",
              "\n",
              "[5 rows x 11 columns]"
            ]
          },
          "metadata": {
            "tags": []
          },
          "execution_count": 7
        }
      ]
    },
    {
      "cell_type": "markdown",
      "metadata": {
        "id": "oRrpmPodIxWC"
      },
      "source": [
        "# Plotting"
      ]
    },
    {
      "cell_type": "code",
      "metadata": {
        "colab": {
          "base_uri": "https://localhost:8080/",
          "height": 383
        },
        "id": "mWjkgDdg-QZ3",
        "outputId": "31e070da-da9f-473f-d055-9ca7eacb1dff"
      },
      "source": [
        "fig, axes = plt.subplots(1, 5, figsize=(22, 6))\n",
        "ax1 = axes[0]\n",
        "sns.distplot(university['Chance of Admit '], ax = ax1)\n",
        "ax2 = axes[1]\n",
        "sns.histplot(x='GRE Score', data=university, ax=ax2)\n",
        "ax3 = axes[2]\n",
        "sns.regplot(x='Chance of Admit ', y='GRE Score', data=university, ax = ax3)\n",
        "ax4 = axes[3]\n",
        "sns.regplot(x='Chance of Admit ', y='TOEFL Score', data=university, ax = ax4)\n",
        "ax5 = axes[4]\n",
        "sns.regplot(x='Chance of Admit ', y='GPA', data=university, ax = ax5)"
      ],
      "execution_count": null,
      "outputs": [
        {
          "output_type": "stream",
          "text": [
            "/usr/local/lib/python3.7/dist-packages/seaborn/distributions.py:2557: FutureWarning: `distplot` is a deprecated function and will be removed in a future version. Please adapt your code to use either `displot` (a figure-level function with similar flexibility) or `histplot` (an axes-level function for histograms).\n",
            "  warnings.warn(msg, FutureWarning)\n"
          ],
          "name": "stderr"
        },
        {
          "output_type": "execute_result",
          "data": {
            "text/plain": [
              "<matplotlib.axes._subplots.AxesSubplot at 0x7f923f564490>"
            ]
          },
          "metadata": {
            "tags": []
          },
          "execution_count": 8
        },
        {
          "output_type": "display_data",
          "data": {
            "image/png": "[encoded data removed]",
            "text/plain": [
              "<Figure size 1584x432 with 5 Axes>"
            ]
          },
          "metadata": {
            "tags": [],
            "needs_background": "light"
          }
        }
      ]
    },
    {
      "cell_type": "code",
      "metadata": {
        "colab": {
          "base_uri": "https://localhost:8080/",
          "height": 493
        },
        "id": "w9wbNcOMXFtc",
        "outputId": "075d8f17-93d1-481f-c82e-0a7c01e72bec"
      },
      "source": [
        "fig, axes = plt.subplots(1, 3, figsize=(15, 6))\n",
        "ax1 = axes[0]\n",
        "sns.boxplot(university['GRE Score'], ax=ax1)\n",
        "ax2 = axes[1]\n",
        "sns.boxplot(university['GPA'], ax=ax2)\n",
        "ax3 = axes[2]\n",
        "sns.regplot(x=university['GPA'], y=university['GRE Score'], order=4, ax=ax3)"
      ],
      "execution_count": null,
      "outputs": [
        {
          "output_type": "stream",
          "text": [
            "/usr/local/lib/python3.7/dist-packages/seaborn/_decorators.py:43: FutureWarning: Pass the following variable as a keyword arg: x. From version 0.12, the only valid positional argument will be `data`, and passing other arguments without an explicit keyword will result in an error or misinterpretation.\n",
            "  FutureWarning\n",
            "/usr/local/lib/python3.7/dist-packages/seaborn/_decorators.py:43: FutureWarning: Pass the following variable as a keyword arg: x. From version 0.12, the only valid positional argument will be `data`, and passing other arguments without an explicit keyword will result in an error or misinterpretation.\n",
            "  FutureWarning\n"
          ],
          "name": "stderr"
        },
        {
          "output_type": "execute_result",
          "data": {
            "text/plain": [
              "<matplotlib.axes._subplots.AxesSubplot at 0x7f923b3a8b90>"
            ]
          },
          "metadata": {
            "tags": []
          },
          "execution_count": 9
        },
        {
          "output_type": "display_data",
          "data": {
            "image/png": "[encoded data removed]",
            "text/plain": [
              "<Figure size 1080x432 with 3 Axes>"
            ]
          },
          "metadata": {
            "tags": [],
            "needs_background": "light"
          }
        }
      ]
    },
    {
      "cell_type": "code",
      "metadata": {
        "id": "yf_menoX9JlK",
        "colab": {
          "base_uri": "https://localhost:8080/",
          "height": 440
        },
        "outputId": "2680c94e-0f4f-48be-ce09-b16144b7dd89"
      },
      "source": [
        "corr = university[['TOEFL Score', 'GRE Score', 'SOP', 'LOR ', 'GPA']].corr()\n",
        "print(corr)\n",
        "sns.heatmap(corr, linecolor='white',xticklabels = corr.columns, yticklabels = corr.columns)"
      ],
      "execution_count": null,
      "outputs": [
        {
          "output_type": "stream",
          "text": [
            "             TOEFL Score  GRE Score       SOP      LOR        GPA\n",
            "TOEFL Score     1.000000   0.827200  0.644410  0.541563  0.810574\n",
            "GRE Score       0.827200   1.000000  0.613498  0.524679  0.825878\n",
            "SOP             0.644410   0.613498  1.000000  0.663707  0.712154\n",
            "LOR             0.541563   0.524679  0.663707  1.000000  0.637469\n",
            "GPA             0.810574   0.825878  0.712154  0.637469  1.000000\n"
          ],
          "name": "stdout"
        },
        {
          "output_type": "execute_result",
          "data": {
            "text/plain": [
              "<matplotlib.axes._subplots.AxesSubplot at 0x7f512eac5fd0>"
            ]
          },
          "metadata": {
            "tags": []
          },
          "execution_count": 8
        },
        {
          "output_type": "display_data",
          "data": {
            "image/png": "[encoded data removed]",
            "text/plain": [
              "<Figure size 432x288 with 2 Axes>"
            ]
          },
          "metadata": {
            "tags": [],
            "needs_background": "light"
          }
        }
      ]
    },
    {
      "cell_type": "markdown",
      "metadata": {
        "id": "wfYd-3CLJJS1"
      },
      "source": [
        "# Model training"
      ]
    },
    {
      "cell_type": "code",
      "metadata": {
        "id": "bb9tYGmgZuVZ"
      },
      "source": [
        "features = ['GRE Score',\n",
        " 'TOEFL Score',\n",
        " 'University Rating',\n",
        " 'SOP',\n",
        " 'Research',\n",
        " 'GPA']\n",
        "target = \"Admit\""
      ],
      "execution_count": null,
      "outputs": []
    },
    {
      "cell_type": "code",
      "metadata": {
        "id": "2StoY1TMZudm"
      },
      "source": [
        "X = university[features]\n",
        "y = university[target]\n",
        "\n",
        "X_train, X_test, y_train, y_test = train_test_split(X, y, test_size=0.2, random_state=17)"
      ],
      "execution_count": null,
      "outputs": []
    },
    {
      "cell_type": "markdown",
      "metadata": {
        "id": "fBBag89kzbku"
      },
      "source": [
        "### Logistic Regression"
      ]
    },
    {
      "cell_type": "code",
      "metadata": {
        "id": "dkZ5bBQnZugP",
        "colab": {
          "base_uri": "https://localhost:8080/"
        },
        "outputId": "3b2fff34-5174-408f-c311-7fb650691e6a"
      },
      "source": [
        "model = LogisticRegression(solver='newton-cg')\n",
        "model.fit(X_train, y_train)\n",
        "y_pred = model.predict(X_test)\n",
        "accuracy_score(y_test, y_pred)"
      ],
      "execution_count": null,
      "outputs": [
        {
          "output_type": "stream",
          "text": [
            "/usr/local/lib/python3.7/dist-packages/sklearn/utils/optimize.py:212: ConvergenceWarning: newton-cg failed to converge. Increase the number of iterations.\n",
            "  \"number of iterations.\", ConvergenceWarning)\n"
          ],
          "name": "stderr"
        },
        {
          "output_type": "execute_result",
          "data": {
            "text/plain": [
              "0.81"
            ]
          },
          "metadata": {
            "tags": []
          },
          "execution_count": 13
        }
      ]
    },
    {
      "cell_type": "code",
      "metadata": {
        "colab": {
          "base_uri": "https://localhost:8080/"
        },
        "id": "tCdumUoa8XSG",
        "outputId": "6d6c5c6f-cda9-4a39-c832-db7e6cc94a9e"
      },
      "source": [
        "for i in range(len(features)):\n",
        "  print(features[i] + \": \" + str(model.coef_[0][i]))"
      ],
      "execution_count": null,
      "outputs": [
        {
          "output_type": "stream",
          "text": [
            "GRE Score: 0.09616770006577893\n",
            "TOEFL Score: 0.27150262195790387\n",
            "University Rating: 0.41684715030877667\n",
            "SOP: 0.4544244367932193\n",
            "Research: 1.1646137359887645\n",
            "GPA: 2.2955470170313537\n"
          ],
          "name": "stdout"
        }
      ]
    },
    {
      "cell_type": "code",
      "metadata": {
        "colab": {
          "base_uri": "https://localhost:8080/"
        },
        "id": "r-B2ogBim1Bl",
        "outputId": "479195b3-c98e-4c14-c58e-4727414e9438"
      },
      "source": [
        "parameters = {'solver':['newton-cg','lbfgs','liblinear','sag','saga'], \n",
        "              'max_iter':[100,125,150,200], 'multi_class':['auto','ovr','multinomial']}\n",
        "logit = LogisticRegression()\n",
        "clf = GridSearchCV(estimator=logit, param_grid=parameters, n_jobs=-1, cv=10)\n",
        "clf.fit(X_train, y_train)\n",
        "\n",
        "clf.best_params_"
      ],
      "execution_count": null,
      "outputs": [
        {
          "output_type": "stream",
          "text": [
            "/usr/local/lib/python3.7/dist-packages/sklearn/model_selection/_split.py:667: UserWarning: The least populated class in y has only 4 members, which is less than n_splits=10.\n",
            "  % (min_groups, self.n_splits)), UserWarning)\n",
            "/usr/local/lib/python3.7/dist-packages/sklearn/utils/optimize.py:212: ConvergenceWarning: newton-cg failed to converge. Increase the number of iterations.\n",
            "  \"number of iterations.\", ConvergenceWarning)\n"
          ],
          "name": "stderr"
        },
        {
          "output_type": "execute_result",
          "data": {
            "text/plain": [
              "{'max_iter': 100, 'multi_class': 'auto', 'solver': 'newton-cg'}"
            ]
          },
          "metadata": {
            "tags": []
          },
          "execution_count": 15
        }
      ]
    },
    {
      "cell_type": "markdown",
      "metadata": {
        "id": "85tbAt1gzitt"
      },
      "source": [
        "### K Nearest Neighbor"
      ]
    },
    {
      "cell_type": "code",
      "metadata": {
        "id": "POBArX1Cm1NM",
        "colab": {
          "base_uri": "https://localhost:8080/"
        },
        "outputId": "9258cb71-5af1-41af-8b63-f5ce146c50bf"
      },
      "source": [
        "model = KNeighborsClassifier(n_neighbors=15, p=1, weights='distance')\n",
        "model.fit(X_train, y_train)\n",
        "y_pred = model.predict(X_test)\n",
        "accuracy_score(y_test, y_pred)"
      ],
      "execution_count": null,
      "outputs": [
        {
          "output_type": "execute_result",
          "data": {
            "text/plain": [
              "0.78"
            ]
          },
          "metadata": {
            "tags": []
          },
          "execution_count": 16
        }
      ]
    },
    {
      "cell_type": "code",
      "metadata": {
        "id": "xQ6Rn0ndjxSi",
        "colab": {
          "base_uri": "https://localhost:8080/"
        },
        "outputId": "4d0db85e-8e12-4ef0-f462-932ce54f8e15"
      },
      "source": [
        "parameters = {'n_neighbors':[5,10,15,20,25], 'weights':['uniform','distance'], \n",
        "              'algorithm':['auto','ball_tree','kd_tree','brute'], 'p':[1,2]}\n",
        "knn = KNeighborsClassifier()\n",
        "clf = GridSearchCV(estimator=knn, param_grid=parameters, n_jobs=-1, cv=10)\n",
        "clf.fit(X_train, y_train)\n",
        "\n",
        "clf.best_params_"
      ],
      "execution_count": null,
      "outputs": [
        {
          "output_type": "stream",
          "text": [
            "/usr/local/lib/python3.7/dist-packages/sklearn/model_selection/_split.py:667: UserWarning: The least populated class in y has only 4 members, which is less than n_splits=10.\n",
            "  % (min_groups, self.n_splits)), UserWarning)\n"
          ],
          "name": "stderr"
        },
        {
          "output_type": "execute_result",
          "data": {
            "text/plain": [
              "{'algorithm': 'auto', 'n_neighbors': 15, 'p': 1, 'weights': 'uniform'}"
            ]
          },
          "metadata": {
            "tags": []
          },
          "execution_count": 18
        }
      ]
    },
    {
      "cell_type": "markdown",
      "metadata": {
        "id": "n0N-7k6m1mpT"
      },
      "source": [
        "### Random Forest"
      ]
    },
    {
      "cell_type": "code",
      "metadata": {
        "id": "Ri4QULLU1Wb-",
        "colab": {
          "base_uri": "https://localhost:8080/"
        },
        "outputId": "dce4cf8e-b017-438a-90bf-7580a15a51f2"
      },
      "source": [
        "model = RandomForestClassifier(max_depth=5, n_estimators=100)\n",
        "model.fit(X_train, y_train)\n",
        "y_pred = model.predict(X_test)\n",
        "accuracy_score(y_test, y_pred)"
      ],
      "execution_count": null,
      "outputs": [
        {
          "output_type": "execute_result",
          "data": {
            "text/plain": [
              "0.83"
            ]
          },
          "metadata": {
            "tags": []
          },
          "execution_count": 19
        }
      ]
    },
    {
      "cell_type": "code",
      "metadata": {
        "colab": {
          "base_uri": "https://localhost:8080/"
        },
        "id": "n2g60FaL4Pc6",
        "outputId": "05ed21b8-0f4c-4ece-8ff4-d0765b5915fd"
      },
      "source": [
        "cross_val_score(model, X_train, y_train, cv=5)"
      ],
      "execution_count": null,
      "outputs": [
        {
          "output_type": "stream",
          "text": [
            "/usr/local/lib/python3.7/dist-packages/sklearn/model_selection/_split.py:667: UserWarning: The least populated class in y has only 4 members, which is less than n_splits=5.\n",
            "  % (min_groups, self.n_splits)), UserWarning)\n"
          ],
          "name": "stderr"
        },
        {
          "output_type": "execute_result",
          "data": {
            "text/plain": [
              "array([0.8125, 0.8   , 0.8125, 0.7375, 0.8   ])"
            ]
          },
          "metadata": {
            "tags": []
          },
          "execution_count": 20
        }
      ]
    },
    {
      "cell_type": "code",
      "metadata": {
        "id": "47KCKwP71WgZ",
        "colab": {
          "base_uri": "https://localhost:8080/"
        },
        "outputId": "e435c090-3b20-4802-e52a-aecbf69a2575"
      },
      "source": [
        "parameters = {'n_estimators':[5,25,50,100,150,200,250], 'criterion':['gini','entropy'], \n",
        "              'max_depth':[5,10,15,20,25], 'max_features':['auto','sqrt','log2']}\n",
        "forest = RandomForestClassifier(max_depth=5, max_features='sqrt')\n",
        "clf = GridSearchCV(estimator=forest, param_grid=parameters, n_jobs=-1, cv=10)\n",
        "clf.fit(X_train, y_train)\n",
        "\n",
        "clf.best_params_"
      ],
      "execution_count": null,
      "outputs": [
        {
          "output_type": "stream",
          "text": [
            "/usr/local/lib/python3.7/dist-packages/sklearn/model_selection/_split.py:667: UserWarning: The least populated class in y has only 4 members, which is less than n_splits=10.\n",
            "  % (min_groups, self.n_splits)), UserWarning)\n"
          ],
          "name": "stderr"
        },
        {
          "output_type": "execute_result",
          "data": {
            "text/plain": [
              "{'criterion': 'gini',\n",
              " 'max_depth': 5,\n",
              " 'max_features': 'sqrt',\n",
              " 'n_estimators': 100}"
            ]
          },
          "metadata": {
            "tags": []
          },
          "execution_count": 103
        }
      ]
    },
    {
      "cell_type": "markdown",
      "metadata": {
        "id": "o3ekEZH7TpSy"
      },
      "source": [
        "Display："
      ]
    },
    {
      "cell_type": "code",
      "metadata": {
        "id": "ZmSGxy6m2Og_",
        "colab": {
          "base_uri": "https://localhost:8080/",
          "height": 205,
          "referenced_widgets": [
            "56f014b99c164655896435087cd37dad",
            "28ab62afad4f4410b1fbaf37a0b8ca5c",
            "3ff6ad8cc3b945e499e684a2fdf2e7d7",
            "98da03d3160846fe9703289d4e9e0998",
            "7f2442296eb24d47a2d9831cc5c9cc60",
            "e17285d9f8d843a59337487db1be00d3"
          ]
        },
        "outputId": "0fd6f915-ca46-4b84-a9ae-5dd7bdaf9707"
      },
      "source": [
        "gre = input('Enter your GRE score: ')\n",
        "toefl = input('Enter your TOEFL score: ')\n",
        "rating = input('Enter the rating of the university you apply for: ')\n",
        "import ipywidgets as iw\n",
        "from IPython.display import display\n",
        "sop=iw.Dropdown(options=[0,0.5,1,1.5,2,2.5,3,3.5,4,4.5,5], value=0, description='SOP: ')\n",
        "print('Enter your Statement of Purpose score: ')\n",
        "display(sop)\n",
        "print('Do you have any research experience?')\n",
        "research = iw.Dropdown(options=[0,1], value=0, description='research: ')\n",
        "display(research)\n",
        "gpa = input('Enter your gpa: ')"
      ],
      "execution_count": null,
      "outputs": [
        {
          "output_type": "stream",
          "text": [
            "Enter your GRE score: 330\n",
            "Enter your TOEFL score: 110\n",
            "Enter the rating of the university you apply for: 4\n",
            "Enter your Statement of Purpose score: \n"
          ],
          "name": "stdout"
        },
        {
          "output_type": "display_data",
          "data": {
            "application/vnd.jupyter.widget-view+json": {
              "model_id": "56f014b99c164655896435087cd37dad",
              "version_minor": 0,
              "version_major": 2
            },
            "text/plain": [
              "Dropdown(description='SOP: ', options=(0, 0.5, 1, 1.5, 2, 2.5, 3, 3.5, 4, 4.5, 5), value=0)"
            ]
          },
          "metadata": {
            "tags": []
          }
        },
        {
          "output_type": "stream",
          "text": [
            "Do you have any research experience?\n"
          ],
          "name": "stdout"
        },
        {
          "output_type": "display_data",
          "data": {
            "application/vnd.jupyter.widget-view+json": {
              "model_id": "98da03d3160846fe9703289d4e9e0998",
              "version_minor": 0,
              "version_major": 2
            },
            "text/plain": [
              "Dropdown(description='research: ', options=(0, 1), value=0)"
            ]
          },
          "metadata": {
            "tags": []
          }
        }
      ]
    },
    {
      "cell_type": "code",
      "metadata": {
        "id": "fSOipF7pGWIP"
      },
      "source": [
        "input = [[gre, toefl, rating, sop.value, research.value, gpa]]\n",
        "df = pd.DataFrame(input, columns=['GRE Score',\n",
        " 'TOEFL Score',\n",
        " 'University Rating',\n",
        " 'SOP',\n",
        " 'Research',\n",
        " 'GPA'])\n",
        "print(model.predict(df))"
      ],
      "execution_count": null,
      "outputs": []
    },
    {
      "cell_type": "code",
      "metadata": {
        "id": "aGXqvaklG1CZ"
      },
      "source": [
        "corr"
      ],
      "execution_count": null,
      "outputs": []
    },
    {
      "cell_type": "code",
      "metadata": {
        "id": "9s_B7sintPU4"
      },
      "source": [
        ""
      ],
      "execution_count": null,
      "outputs": []
    }
  ]
}